{
 "metadata": {
  "language_info": {
   "codemirror_mode": {
    "name": "ipython",
    "version": 3
   },
   "file_extension": ".py",
   "mimetype": "text/x-python",
   "name": "python",
   "nbconvert_exporter": "python",
   "pygments_lexer": "ipython3",
   "version": "3.7.7-final"
  },
  "orig_nbformat": 2,
  "kernelspec": {
   "name": "python3",
   "display_name": "Python 3",
   "language": "python"
  }
 },
 "nbformat": 4,
 "nbformat_minor": 2,
 "cells": [
  {
   "source": [
    "# Neural Network Hello World AKA MNIST problem\n",
    "\n",
    "In this notebook, we will do a full implementation of the fashion MNIST."
   ],
   "cell_type": "markdown",
   "metadata": {}
  },
  {
   "cell_type": "code",
   "execution_count": 2,
   "metadata": {},
   "outputs": [],
   "source": [
    "import matplotlib.pyplot as plt\n",
    "import numpy as np\n",
    "import torch \n",
    "from torchvision import datasets, transforms"
   ]
  },
  {
   "cell_type": "code",
   "execution_count": 15,
   "metadata": {},
   "outputs": [],
   "source": [
    "# Define a transform to normalize the data\n",
    "transform = transforms.Compose([transforms.ToTensor()])\n",
    "# Download and load the training data\n",
    "trainset = datasets.FashionMNIST('~/.pytorch/F_MNIST_data/', download=True, train=True, transform=transform)\n",
    "trainloader = torch.utils.data.DataLoader(trainset, batch_size=64, shuffle=True)\n",
    "\n",
    "# Download and load the test data\n",
    "testset = datasets.FashionMNIST('~/.pytorch/F_MNIST_data/', download=True, train=False, transform=transform)\n",
    "testloader = torch.utils.data.DataLoader(testset, batch_size=64, shuffle=True)"
   ]
  },
  {
   "cell_type": "code",
   "execution_count": 18,
   "metadata": {},
   "outputs": [
    {
     "output_type": "display_data",
     "data": {
      "text/plain": "<Figure size 432x288 with 1 Axes>",
      "image/svg+xml": "<?xml version=\"1.0\" encoding=\"utf-8\" standalone=\"no\"?>\n<!DOCTYPE svg PUBLIC \"-//W3C//DTD SVG 1.1//EN\"\n  \"http://www.w3.org/Graphics/SVG/1.1/DTD/svg11.dtd\">\n<!-- Created with matplotlib (https://matplotlib.org/) -->\n<svg height=\"231.84pt\" version=\"1.1\" viewBox=\"0 0 231.84 231.84\" width=\"231.84pt\" xmlns=\"http://www.w3.org/2000/svg\" xmlns:xlink=\"http://www.w3.org/1999/xlink\">\n <defs>\n  <style type=\"text/css\">\n*{stroke-linecap:butt;stroke-linejoin:round;}\n  </style>\n </defs>\n <g id=\"figure_1\">\n  <g id=\"patch_1\">\n   <path d=\"M 0 231.84 \nL 231.84 231.84 \nL 231.84 0 \nL 0 0 \nz\n\" style=\"fill:none;\"/>\n  </g>\n  <g id=\"axes_1\">\n   <g id=\"patch_2\">\n    <path d=\"M 7.2 224.64 \nL 224.64 224.64 \nL 224.64 7.2 \nL 7.2 7.2 \nz\n\" style=\"fill:#ffffff;\"/>\n   </g>\n   <g clip-path=\"url(#pd36d52ce4d)\">\n    <image height=\"218\" id=\"image14ca05d57e\" transform=\"scale(1 -1)translate(0 -218)\" width=\"218\" x=\"7.2\" xlink:href=\"data:image/png;base64,\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\" y=\"-6.64\"/>\n   </g>\n   <g id=\"matplotlib.axis_1\">\n    <g id=\"xtick_1\">\n     <g id=\"line2d_1\"/>\n    </g>\n    <g id=\"xtick_2\">\n     <g id=\"line2d_2\"/>\n    </g>\n    <g id=\"xtick_3\">\n     <g id=\"line2d_3\"/>\n    </g>\n    <g id=\"xtick_4\">\n     <g id=\"line2d_4\"/>\n    </g>\n    <g id=\"xtick_5\">\n     <g id=\"line2d_5\"/>\n    </g>\n    <g id=\"xtick_6\">\n     <g id=\"line2d_6\"/>\n    </g>\n   </g>\n   <g id=\"matplotlib.axis_2\">\n    <g id=\"ytick_1\">\n     <g id=\"line2d_7\"/>\n    </g>\n    <g id=\"ytick_2\">\n     <g id=\"line2d_8\"/>\n    </g>\n    <g id=\"ytick_3\">\n     <g id=\"line2d_9\"/>\n    </g>\n    <g id=\"ytick_4\">\n     <g id=\"line2d_10\"/>\n    </g>\n    <g id=\"ytick_5\">\n     <g id=\"line2d_11\"/>\n    </g>\n    <g id=\"ytick_6\">\n     <g id=\"line2d_12\"/>\n    </g>\n   </g>\n  </g>\n </g>\n <defs>\n  <clipPath id=\"pd36d52ce4d\">\n   <rect height=\"217.44\" width=\"217.44\" x=\"7.2\" y=\"7.2\"/>\n  </clipPath>\n </defs>\n</svg>\n",
      "image/png": "[encoded data removed]"
     },
     "metadata": {
      "needs_background": "light"
     }
    }
   ],
   "source": [
    "def imshow(image, ax=None, title=None, normalize=True):\n",
    "    \"\"\"Imshow for Tensor.\"\"\"\n",
    "    if ax is None:\n",
    "        fig, ax = plt.subplots()\n",
    "    image = image.numpy().transpose((1, 2, 0))\n",
    "\n",
    "    if normalize:\n",
    "        mean = np.array([0.485, 0.456, 0.406])\n",
    "        std = np.array([0.229, 0.224, 0.225])\n",
    "        image = std * image + mean\n",
    "        image = np.clip(image, 0, 1)\n",
    "\n",
    "    ax.imshow(image)\n",
    "    ax.spines['top'].set_visible(False)\n",
    "    ax.spines['right'].set_visible(False)\n",
    "    ax.spines['left'].set_visible(False)\n",
    "    ax.spines['bottom'].set_visible(False)\n",
    "    ax.tick_params(axis='both', length=0)\n",
    "    ax.set_xticklabels('')\n",
    "    ax.set_yticklabels('')\n",
    "\n",
    "    return ax\n",
    "\n",
    "image, label = next(iter(trainloader))\n",
    "imshow(image[0,:]);"
   ]
  },
  {
   "source": [
    "Lets build our network"
   ],
   "cell_type": "markdown",
   "metadata": {}
  },
  {
   "cell_type": "code",
   "execution_count": 16,
   "metadata": {},
   "outputs": [
    {
     "output_type": "stream",
     "name": "stdout",
     "text": [
      "training loss: 1.3558144472809488\n",
      "training loss: 0.7057263855931601\n",
      "training loss: 0.5879510292557003\n",
      "training loss: 0.5293036858314899\n",
      "training loss: 0.49443285462698705\n"
     ]
    }
   ],
   "source": [
    "from torch import nn\n",
    "import torch.nn.functional as F \n",
    "from torch import optim\n",
    "\n",
    "model = nn.Sequential(\n",
    "    nn.Linear(784, 512),\n",
    "    nn.ReLU(),\n",
    "    nn.Linear(512, 128),\n",
    "    nn.ReLU(),\n",
    "    nn.Linear(128, 10),\n",
    "    nn.LogSoftmax(dim=1)\n",
    ")\n",
    "criterion = nn.CrossEntropyLoss()\n",
    "lr = 0.01\n",
    "optimizer = optim.SGD(model.parameters(), lr=lr)\n",
    "\n",
    "epochs=5\n",
    "for e in range(epochs):\n",
    "    train_loss = 0\n",
    "    for images, labels in trainloader:\n",
    "        images = images.view(images.shape[0], -1)\n",
    "        optimizer.zero_grad()\n",
    "\n",
    "        pred = model.forward(images)\n",
    "        loss = criterion(pred, labels)\n",
    "        loss.backward()\n",
    "        optimizer.step()\n",
    "        train_loss += loss.item()\n",
    "    else:\n",
    "        print(f'training loss: {train_loss/len(trainloader)}')"
   ]
  },
  {
   "cell_type": "code",
   "execution_count": 19,
   "metadata": {},
   "outputs": [],
   "source": [
    "def view_classify(img, ps, version=\"MNIST\"):\n",
    "    ''' Function for viewing an image and it's predicted classes.\n",
    "    '''\n",
    "    ps = ps.data.numpy().squeeze()\n",
    "\n",
    "    fig, (ax1, ax2) = plt.subplots(figsize=(6,9), ncols=2)\n",
    "    ax1.imshow(img.resize_(1, 28, 28).numpy().squeeze())\n",
    "    ax1.axis('off')\n",
    "    ax2.barh(np.arange(10), ps)\n",
    "    ax2.set_aspect(0.1)\n",
    "    ax2.set_yticks(np.arange(10))\n",
    "    if version == \"MNIST\":\n",
    "        ax2.set_yticklabels(np.arange(10))\n",
    "    elif version == \"Fashion\":\n",
    "        ax2.set_yticklabels(['T-shirt/top',\n",
    "                            'Trouser',\n",
    "                            'Pullover',\n",
    "                            'Dress',\n",
    "                            'Coat',\n",
    "                            'Sandal',\n",
    "                            'Shirt',\n",
    "                            'Sneaker',\n",
    "                            'Bag',\n",
    "                            'Ankle Boot'], size='small');\n",
    "    ax2.set_title('Class Probability')\n",
    "    ax2.set_xlim(0, 1.1)\n",
    "\n",
    "    plt.tight_layout()"
   ]
  },
  {
   "cell_type": "code",
   "execution_count": 22,
   "metadata": {},
   "outputs": [
    {
     "output_type": "display_data",
     "data": {
      "text/plain": "<Figure size 432x648 with 2 Axes>",
      "image/png": "[encoded data removed]"
     },
     "metadata": {
      "image/png": {
       "width": 424,
       "height": 216
      },
      "needs_background": "light"
     }
    }
   ],
   "source": [
    "%matplotlib inline\n",
    "%config InlineBackend.figure_format = 'retina'\n",
    "\n",
    "dataiter = iter(testloader)\n",
    "images, labels = dataiter.next()\n",
    "img = images[0]\n",
    "# Convert 2D image to 1D vector\n",
    "img = img.resize_(1, 784)\n",
    "\n",
    "# Calculate the class probabilities (softmax) for img\n",
    "with torch.no_grad():\n",
    "    ps = torch.exp(model(img))\n",
    "\n",
    "# Plot the image and probabilities\n",
    "view_classify(img.resize_(1, 28, 28), ps, version='Fashion')"
   ]
  }
 ]
}