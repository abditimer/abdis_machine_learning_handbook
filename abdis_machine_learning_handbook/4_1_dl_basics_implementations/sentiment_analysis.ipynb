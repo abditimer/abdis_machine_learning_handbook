{
 "metadata": {
  "language_info": {
   "codemirror_mode": {
    "name": "ipython",
    "version": 3
   },
   "file_extension": ".py",
   "mimetype": "text/x-python",
   "name": "python",
   "nbconvert_exporter": "python",
   "pygments_lexer": "ipython3",
   "version": "3.7.7-final"
  },
  "orig_nbformat": 2,
  "kernelspec": {
   "name": "python3",
   "display_name": "Python 3",
   "language": "python"
  }
 },
 "nbformat": 4,
 "nbformat_minor": 2,
 "cells": [
  {
   "source": [
    "# Sentiment Analysis end-to-end example\n",
    "\n",
    "This example is brought to you by Udacity - consider doing the great Udacity Deep Learning course. Find out more [here]().\n",
    "\n",
    "----"
   ],
   "cell_type": "markdown",
   "metadata": {}
  },
  {
   "source": [
    "In this notebook, the aium is to build `TODO`\n",
    "\n",
    "We begin by looking at the dataset we have:\n",
    "- reviews.txt: reviews of a movie\n",
    "- labels.txt: positive/negative label associated with the movie \n",
    "\n",
    "We will use the python `open()` function to open the file, with the parameter `'r'` to read the file. Using `readlines` will return a list made up of each line in the file, returned as a list item. Hence, each character will be an item in the list. "
   ],
   "cell_type": "markdown",
   "metadata": {}
  },
  {
   "cell_type": "code",
   "execution_count": 24,
   "metadata": {},
   "outputs": [],
   "source": [
    "review_file = open('sentiment_data/reviews.txt', 'r')\n",
    "reviews = list(map(lambda x : x[:-1], review_file.readlines()))\n",
    "review_file.close()\n",
    "\n",
    "label_file = open('sentiment_data/labels.txt', 'r')\n",
    "labels = list(map(lambda x : x[:-1].upper(), label_file.readlines()))\n",
    "label_file.close()"
   ]
  },
  {
   "source": [
    "Now lets find some information out about our data."
   ],
   "cell_type": "markdown",
   "metadata": {}
  },
  {
   "cell_type": "code",
   "execution_count": 27,
   "metadata": {},
   "outputs": [
    {
     "output_type": "stream",
     "name": "stdout",
     "text": [
      "Size of our data: 25000\nNo of labels: 25000\n\nNow, lets see one row of our data. First feature in our data:\nbromwell high is a cartoon comedy . it ran at the same time as some other programs about school life  such as  teachers  . my   years in the teaching profession lead me to believe that bromwell high  s satire is much closer to reality than is  teachers  . the scramble to survive financially  the insightful students who can see right through their pathetic teachers  pomp  the pettiness of the whole situation  all remind me of the schools i knew and their students . when i saw the episode in which a student repeatedly tried to burn down the school  i immediately recalled . . . . . . . . . at . . . . . . . . . . high . a classic line inspector i  m here to sack one of your teachers . student welcome to bromwell high . i expect that many adults of my age think that bromwell high is far fetched . what a pity that it isn  t   \n\nPrediction:\nPOSITIVE\n"
     ]
    }
   ],
   "source": [
    "print(f'Size of our data: {len(reviews)}')\n",
    "print(f'No of labels: {len(labels)}')\n",
    "print('\\nNow, lets see one row of our data. First feature in our data:')\n",
    "print(reviews[0])\n",
    "print('\\nPrediction:')\n",
    "print(labels[0])"
   ]
  },
  {
   "source": [
    "---"
   ],
   "cell_type": "markdown",
   "metadata": {}
  },
  {
   "source": [
    "## Now, lets build up a hypothesis\n",
    "\n",
    "We will begin by looking at our data, and trying to see what conclusions we can draw. This is ofter called the `exploratory` phase. We will begin by looking at some random predictions..."
   ],
   "cell_type": "markdown",
   "metadata": {}
  },
  {
   "cell_type": "code",
   "execution_count": 28,
   "metadata": {},
   "outputs": [],
   "source": [
    "def print_review_with_label(ith_row):\n",
    "    print(labels[ith_row] + '\\t:\\t' + reviews[ith_row][:80] + '...')"
   ]
  },
  {
   "source": [
    "Using the function above, we can beautifully print our data; feature along with its prediction."
   ],
   "cell_type": "markdown",
   "metadata": {}
  },
  {
   "cell_type": "code",
   "execution_count": 33,
   "metadata": {},
   "outputs": [
    {
     "output_type": "stream",
     "name": "stdout",
     "text": [
      "labels.txt \t : \t reviews.txt\n\nNEGATIVE\t:\tthis movie is terrible but it has some good effects .  ...\nPOSITIVE\t:\tadrian pasdar is excellent is this film . he makes a fascinating woman .  ...\nNEGATIVE\t:\tcomment this movie is impossible . is terrible  very improbable  bad interpretat...\nPOSITIVE\t:\texcellent episode movie ala pulp fiction .  days   suicides . it doesnt get more...\n"
     ]
    }
   ],
   "source": [
    "print(\"labels.txt \\t : \\t reviews.txt\\n\")\n",
    "print_review_with_label(2137)\n",
    "print_review_with_label(12816)\n",
    "print_review_with_label(6267)\n",
    "print_review_with_label(21934)"
   ]
  },
  {
   "source": [
    "We will be using the `Counter` python class throughout this section, as it provides a nice way to count the occurances of words. "
   ],
   "cell_type": "markdown",
   "metadata": {}
  },
  {
   "cell_type": "code",
   "execution_count": 34,
   "metadata": {},
   "outputs": [],
   "source": [
    "from collections import Counter\n",
    "import numpy as np "
   ]
  },
  {
   "cell_type": "code",
   "execution_count": 37,
   "metadata": {},
   "outputs": [
    {
     "output_type": "stream",
     "name": "stdout",
     "text": [
      "At this stage, our counters are empty...\npositive counter:  Counter()\nnegative counter:  Counter()\ntotal words counter:  Counter()\nHere is a test counter:  Counter({4: 3, 1: 1, 2: 1, 3: 1})\n"
     ]
    }
   ],
   "source": [
    "positive_words_counter = Counter()\n",
    "negative_words_counter = Counter()\n",
    "total_words_counter = Counter()\n",
    "example_counter_with_stuff = Counter([1,2,3,4,4,4])\n",
    "\n",
    "def counter_pretty_print():\n",
    "    print('positive counter: ', positive_words_counter)\n",
    "    print('negative counter: ', negative_words_counter)\n",
    "    print('total words counter: ', total_words_counter)\n",
    "\n",
    "print('At this stage, our counters are empty...')\n",
    "counter_pretty_print()\n",
    "print('Here is a test counter: ', example_counter_with_stuff)"
   ]
  },
  {
   "source": [
    "Now, lets fill out our three counters."
   ],
   "cell_type": "markdown",
   "metadata": {}
  },
  {
   "cell_type": "code",
   "execution_count": null,
   "metadata": {},
   "outputs": [],
   "source": [
    " # for each row in our dataset\n",
    "for sentence in range(len(reviews)):\n",
    "    # for each word in our sentence\n",
    "    for word in \n",
    "        # if it is positive - add a positive counter\n",
    "        if labels[row_count] == 'POSITIVE':\n",
    "            positive_words_counter[]\n",
    "        # if it is negative - add to negative counter\n",
    "\n",
    "        # regardless, add to total word counter"
   ]
  }
 ]
}