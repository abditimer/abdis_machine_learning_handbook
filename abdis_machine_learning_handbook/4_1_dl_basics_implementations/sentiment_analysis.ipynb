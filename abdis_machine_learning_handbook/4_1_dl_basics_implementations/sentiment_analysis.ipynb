{
 "metadata": {
  "language_info": {
   "codemirror_mode": {
    "name": "ipython",
    "version": 3
   },
   "file_extension": ".py",
   "mimetype": "text/x-python",
   "name": "python",
   "nbconvert_exporter": "python",
   "pygments_lexer": "ipython3",
   "version": "3.7.7-final"
  },
  "orig_nbformat": 2,
  "kernelspec": {
   "name": "python3",
   "display_name": "Python 3",
   "language": "python"
  }
 },
 "nbformat": 4,
 "nbformat_minor": 2,
 "cells": [
  {
   "source": [
    "# Sentiment Analysis end-to-end example\n",
    "\n",
    "This example is brought to you by Udacity - consider doing the great Udacity Deep Learning course. Find out more [here]().\n",
    "\n",
    "----"
   ],
   "cell_type": "markdown",
   "metadata": {}
  },
  {
   "source": [
    "In this notebook, the aium is to build `TODO`\n",
    "\n",
    "We begin by looking at the dataset we have:\n",
    "- reviews.txt: reviews of a movie\n",
    "- labels.txt: positive/negative label associated with the movie \n",
    "\n",
    "We will use the python `open()` function to open the file, with the parameter `'r'` to read the file. "
   ],
   "cell_type": "markdown",
   "metadata": {}
  },
  {
   "cell_type": "code",
   "execution_count": null,
   "metadata": {},
   "outputs": [],
   "source": [
    "review_file = open('reviews.txt', 'r')"
   ]
  },
  {
   "cell_type": "code",
   "execution_count": null,
   "metadata": {},
   "outputs": [],
   "source": [
    "def print_review_with_label(review):\n",
    "    print(labels)"
   ]
  }
 ]
}