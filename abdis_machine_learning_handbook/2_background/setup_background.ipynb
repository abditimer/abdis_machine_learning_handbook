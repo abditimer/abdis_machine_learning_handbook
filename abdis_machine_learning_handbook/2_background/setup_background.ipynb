{
 "metadata": {
  "language_info": {
   "codemirror_mode": {
    "name": "ipython",
    "version": 3
   },
   "file_extension": ".py",
   "mimetype": "text/x-python",
   "name": "python",
   "nbconvert_exporter": "python",
   "pygments_lexer": "ipython3",
   "version": 3
  },
  "orig_nbformat": 2
 },
 "nbformat": 4,
 "nbformat_minor": 2,
 "cells": [
  {
   "source": [
    "# Setup Background\n",
    "In this section, we will cover:\n",
    "- different types of python environments\n",
    "- how to set up your environment to build models\n",
    "\n",
    "## Intro\n",
    "Setting up environments for python can be confusing:\n",
    "\n",
    "<img src='https://imgs.xkcd.com/comics/python_environment_2x.png' alt='meme of python dependencies all over the place' width='500'>\n",
    "\n",
    "In this notebook, we will aim to help summarise the different approaches, and help you get on your feet quickly!"
   ],
   "cell_type": "markdown",
   "metadata": {}
  },
  {
   "source": [
    "## Environments\n",
    "Environments allow you to isolate away from your machine, hence, giving you a way to build isolated project with different package dependencies. \n",
    "\n",
    "### Conda\n",
    "- Part of the Anaconda Distribution, you can use conda to create virtual environments and install packages\n",
    "- built for data science and other data tasks\n",
    "- it is a package and environment manager\n",
    "- You can create a new environment per project\n",
    "- create environment using `conda create <name>`\n",
    "- activate and enter it using: `source activate <name>` (for windows, just use activate)\n",
    "- use `conda list` to view all packages in your virtual environment\n",
    "- use `conda install <python packages>` to install new py packages\n",
    "- to update conda, run: `conda upgrade conda` and `conda upgrade --all`\n",
    "- to update a conda package, run: `conda update <package name>` or run `conda update --all`\n",
    "- Environments:\n",
    "    - create new environment with : `conda create -n <name>`\n",
    "    - activate conda environment with : `conda activate <env name>`\n",
    "    - deactivate it with : `conda deactivate`\n",
    "    - export environment using : `conda env export > environment.yaml`\n",
    "    - list all environments : `conda env list`\n",
    "\n",
    "\n",
    "### MiniConda\n",
    "- Like conda, but smaller\n",
    "- smaller distribution that only contains python and conda \n",
    "- no preinstalled packages\n",
    "\n",
    "### Pip\n",
    "- default python package manager \n",
    "- can download all packages from PyPi distribution\n",
    "- to check if you have pip, use the typical --version command with pip: `pip --version`\n",
    "- export all current packages from an environment using `pip freeze > requirements.txt`"
   ],
   "cell_type": "markdown",
   "metadata": {}
  },
  {
   "cell_type": "code",
   "execution_count": null,
   "metadata": {},
   "outputs": [],
   "source": []
  }
 ]
}