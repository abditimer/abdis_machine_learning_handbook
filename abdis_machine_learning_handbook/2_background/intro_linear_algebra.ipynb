{
 "metadata": {
  "language_info": {
   "codemirror_mode": {
    "name": "ipython",
    "version": 3
   },
   "file_extension": ".py",
   "mimetype": "text/x-python",
   "name": "python",
   "nbconvert_exporter": "python",
   "pygments_lexer": "ipython3",
   "version": "3.7.7-final"
  },
  "orig_nbformat": 2,
  "kernelspec": {
   "name": "python3",
   "display_name": "Python 3"
  }
 },
 "nbformat": 4,
 "nbformat_minor": 2,
 "cells": [
  {
   "source": [
    "# Intro to Linear Algebra\n",
    "\n"
   ],
   "cell_type": "markdown",
   "metadata": {}
  },
  {
   "cell_type": "code",
   "execution_count": 4,
   "metadata": {},
   "outputs": [],
   "source": [
    "import numpy as np"
   ]
  },
  {
   "source": [
    "## Matrix multiplication with NumPy\n",
    "\n",
    "Element-wise multiplication"
   ],
   "cell_type": "markdown",
   "metadata": {}
  },
  {
   "cell_type": "code",
   "execution_count": 5,
   "metadata": {},
   "outputs": [
    {
     "output_type": "execute_result",
     "data": {
      "text/plain": [
       "array([[ True,  True,  True],\n",
       "       [ True,  True,  True]])"
      ]
     },
     "metadata": {},
     "execution_count": 5
    }
   ],
   "source": [
    "# Element-wise multiplication\n",
    "matrix_1 = np.array([\n",
    "    [2,4,6],\n",
    "    [1,2,3]\n",
    "])\n",
    "matrix_2 = np.array([\n",
    "    [2,2,2],\n",
    "    [3,3,3]\n",
    "])\n",
    "# is multiplying them with a * operator the same as np.multiply?\n",
    "matrix_1 * matrix_2 == np.multiply(matrix_1, matrix_2)"
   ]
  },
  {
   "source": [
    "Matrix multiplication\n",
    "\n",
    "Output matrix has:\n",
    "- same no of rows as the first matrix\n",
    "- same no of cols as the second matrix"
   ],
   "cell_type": "markdown",
   "metadata": {}
  },
  {
   "cell_type": "code",
   "execution_count": 11,
   "metadata": {},
   "outputs": [
    {
     "output_type": "execute_result",
     "data": {
      "text/plain": [
       "array([[6, 6],\n",
       "       [6, 6]])"
      ]
     },
     "metadata": {},
     "execution_count": 11
    }
   ],
   "source": [
    "# (2,2) matrix\n",
    "matrix_a = np.array([\n",
    "    [1,1,1],\n",
    "    [1,1,1]\n",
    "])\n",
    "\n",
    "# (2, 4)\n",
    "matrix_b = np.array([\n",
    "    [2,2],\n",
    "    [2,2],\n",
    "    [2,2]\n",
    "])\n",
    "\n",
    "np.matmul(matrix_a, matrix_b)"
   ]
  },
  {
   "source": [
    "Doing `Matmul` is essentially the same as doing the Dot product, if the matrices are 2D. That is why you will see it often."
   ],
   "cell_type": "markdown",
   "metadata": {}
  },
  {
   "cell_type": "code",
   "execution_count": 12,
   "metadata": {},
   "outputs": [
    {
     "output_type": "execute_result",
     "data": {
      "text/plain": [
       "array([[6, 6],\n",
       "       [6, 6]])"
      ]
     },
     "metadata": {},
     "execution_count": 12
    }
   ],
   "source": [
    "np.dot(matrix_a, matrix_b)"
   ]
  }
 ]
}