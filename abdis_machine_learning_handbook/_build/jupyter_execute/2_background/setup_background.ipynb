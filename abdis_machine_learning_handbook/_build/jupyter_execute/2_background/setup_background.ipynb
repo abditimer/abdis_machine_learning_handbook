{
 "cells": [
  {
   "cell_type": "markdown",
   "metadata": {},
   "source": [
    "# Setup Background\n",
    "In this section, we will cover:\n",
    "- different types of python environments\n",
    "- how to set up your environment to build models\n",
    "\n",
    "## Intro\n",
    "Setting up environments for python can be confusing:\n",
    "\n",
    "<img src='https://imgs.xkcd.com/comics/python_environment_2x.png' alt='meme of python dependencies all over the place' width='500'>\n",
    "\n",
    "In this notebook, we will aim to help summarise the different approaches, and help you get on your feet quickly!"
   ]
  },
  {
   "cell_type": "code",
   "execution_count": null,
   "metadata": {},
   "outputs": [],
   "source": []
  }
 ],
 "metadata": {
  "language_info": {
   "codemirror_mode": {
    "name": "ipython",
    "version": 3
   },
   "file_extension": ".py",
   "mimetype": "text/x-python",
   "name": "python",
   "nbconvert_exporter": "python",
   "pygments_lexer": "ipython3",
   "version": "3.7.1"
  }
 },
 "nbformat": 4,
 "nbformat_minor": 2
}