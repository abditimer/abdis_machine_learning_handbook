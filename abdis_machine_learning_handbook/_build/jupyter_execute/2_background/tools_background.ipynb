{
 "cells": [
  {
   "cell_type": "markdown",
   "metadata": {},
   "source": [
    "# Tools Background\n",
    "\n",
    "In this section, we will cover:\n",
    "- Tooling for building ML systems\n",
    "- Tools such as:\n",
    "    - Jupyter notebook, books and labs\n",
    "    - Other editors like VSCode\n",
    "    - Source Control\n",
    "    - Database\n",
    "    - Cloud\n",
    "    - Virtual Machines\n",
    "\n"
   ]
  },
  {
   "cell_type": "markdown",
   "metadata": {},
   "source": [
    "## Jupyter\n",
    "\n",
    "### Jupyter Notebooks\n",
    "- Combines both text and code in the form of literature programming, that has a story/narative with the code\n",
    "- Advantages:\n",
    "    - see code execution in steps\n",
    "    - reproducible and shareable\n",
    "    - explain your code -> great for documentation\n",
    "- You can also visualise maths, videos and images in your notebook\n",
    "- Jupyter notebooks is made up of:\n",
    "    - End user in a browser : you - viewing the change in a browser\n",
    "    - Notebook Server : connects to browser using http & websockets, notebook file and kernel\n",
    "    - kernel : runs the code and sends results back to server, which then renders outputs to browser \n",
    "    - the saved file (.ipynb) is saved as a json file\n",
    "    "
   ]
  },
  {
   "cell_type": "markdown",
   "metadata": {},
   "source": [
    "## IDE's (e.g. VSCode)\n",
    "I use microsofts free and open source IDE called vscode. It is a great platform that has a lot of extensions for software engineers and data scientists. Additionally, it has great interactivity with git, allowing for easy git pull/push actions."
   ]
  }
 ],
 "metadata": {
  "kernelspec": {
   "display_name": "Python 3.7.1 64-bit ('datascienceenv': venv)",
   "name": "python37164bitdatascienceenvvenvc7e335f45fcf4ed5bb97715a7b64d407"
  },
  "language_info": {
   "codemirror_mode": {
    "name": "ipython",
    "version": 3
   },
   "file_extension": ".py",
   "mimetype": "text/x-python",
   "name": "python",
   "nbconvert_exporter": "python",
   "pygments_lexer": "ipython3",
   "version": "3.7.1-final"
  }
 },
 "nbformat": 4,
 "nbformat_minor": 2
}