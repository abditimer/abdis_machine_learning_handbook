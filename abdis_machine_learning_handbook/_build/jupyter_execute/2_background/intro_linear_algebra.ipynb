{
 "cells": [
  {
   "cell_type": "markdown",
   "metadata": {},
   "source": [
    "# Intro to Linear Algebra\n",
    "\n"
   ]
  },
  {
   "cell_type": "code",
   "execution_count": 1,
   "metadata": {},
   "outputs": [],
   "source": [
    "import numpy as np"
   ]
  },
  {
   "cell_type": "markdown",
   "metadata": {},
   "source": [
    "## Matrix multiplication with NumPy\n",
    "\n",
    "Element-wise multiplication"
   ]
  },
  {
   "cell_type": "code",
   "execution_count": 2,
   "metadata": {},
   "outputs": [
    {
     "data": {
      "text/plain": [
       "array([[ True,  True,  True],\n",
       "       [ True,  True,  True]])"
      ]
     },
     "execution_count": 2,
     "metadata": {},
     "output_type": "execute_result"
    }
   ],
   "source": [
    "# Element-wise multiplication\n",
    "matrix_1 = np.array([\n",
    "    [2,4,6],\n",
    "    [1,2,3]\n",
    "])\n",
    "matrix_2 = np.array([\n",
    "    [2,2,2],\n",
    "    [3,3,3]\n",
    "])\n",
    "# is multiplying them with a * operator the same as np.multiply?\n",
    "matrix_1 * matrix_2 == np.multiply(matrix_1, matrix_2)"
   ]
  },
  {
   "cell_type": "markdown",
   "metadata": {},
   "source": [
    "Matrix multiplication\n",
    "\n",
    "Output matrix has:\n",
    "- same no of rows as the first matrix\n",
    "- same no of cols as the second matrix"
   ]
  },
  {
   "cell_type": "code",
   "execution_count": 3,
   "metadata": {},
   "outputs": [
    {
     "data": {
      "text/plain": [
       "array([[6, 6],\n",
       "       [6, 6]])"
      ]
     },
     "execution_count": 3,
     "metadata": {},
     "output_type": "execute_result"
    }
   ],
   "source": [
    "# (2,2) matrix\n",
    "matrix_a = np.array([\n",
    "    [1,1,1],\n",
    "    [1,1,1]\n",
    "])\n",
    "\n",
    "# (2, 4)\n",
    "matrix_b = np.array([\n",
    "    [2,2],\n",
    "    [2,2],\n",
    "    [2,2]\n",
    "])\n",
    "\n",
    "np.matmul(matrix_a, matrix_b)"
   ]
  },
  {
   "cell_type": "markdown",
   "metadata": {},
   "source": [
    "Doing `Matmul` is essentially the same as doing the Dot product, if the matrices are 2D. That is why you will see it often."
   ]
  },
  {
   "cell_type": "code",
   "execution_count": 4,
   "metadata": {},
   "outputs": [
    {
     "data": {
      "text/plain": [
       "array([[6, 6],\n",
       "       [6, 6]])"
      ]
     },
     "execution_count": 4,
     "metadata": {},
     "output_type": "execute_result"
    }
   ],
   "source": [
    "np.dot(matrix_a, matrix_b)"
   ]
  }
 ],
 "metadata": {
  "kernelspec": {
   "display_name": "Python 3",
   "name": "python3"
  },
  "language_info": {
   "codemirror_mode": {
    "name": "ipython",
    "version": 3
   },
   "file_extension": ".py",
   "mimetype": "text/x-python",
   "name": "python",
   "nbconvert_exporter": "python",
   "pygments_lexer": "ipython3",
   "version": "3.7.1"
  }
 },
 "nbformat": 4,
 "nbformat_minor": 2
}