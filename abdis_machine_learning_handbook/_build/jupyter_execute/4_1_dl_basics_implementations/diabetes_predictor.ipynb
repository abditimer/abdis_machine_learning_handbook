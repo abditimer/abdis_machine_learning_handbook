{
 "cells": [
  {
   "cell_type": "markdown",
   "metadata": {},
   "source": [
    "# Building a terrible diabetes predictor from scratch\n"
   ]
  },
  {
   "cell_type": "code",
   "execution_count": 1,
   "metadata": {},
   "outputs": [],
   "source": [
    "import numpy as np \n",
    "import pandas as pd "
   ]
  },
  {
   "cell_type": "code",
   "execution_count": 2,
   "metadata": {},
   "outputs": [
    {
     "data": {
      "text/html": [
       "<div>\n",
       "<style scoped>\n",
       "    .dataframe tbody tr th:only-of-type {\n",
       "        vertical-align: middle;\n",
       "    }\n",
       "\n",
       "    .dataframe tbody tr th {\n",
       "        vertical-align: top;\n",
       "    }\n",
       "\n",
       "    .dataframe thead th {\n",
       "        text-align: right;\n",
       "    }\n",
       "</style>\n",
       "<table border=\"1\" class=\"dataframe\">\n",
       "  <thead>\n",
       "    <tr style=\"text-align: right;\">\n",
       "      <th></th>\n",
       "      <th>num_preg</th>\n",
       "      <th>glucose_conc</th>\n",
       "      <th>diastolic_bp</th>\n",
       "      <th>skin_thickness</th>\n",
       "      <th>insulin</th>\n",
       "      <th>bmi</th>\n",
       "      <th>diab_pred</th>\n",
       "      <th>age</th>\n",
       "      <th>diabetes</th>\n",
       "    </tr>\n",
       "  </thead>\n",
       "  <tbody>\n",
       "    <tr>\n",
       "      <th>0</th>\n",
       "      <td>6</td>\n",
       "      <td>148</td>\n",
       "      <td>72</td>\n",
       "      <td>35</td>\n",
       "      <td>0</td>\n",
       "      <td>33.6</td>\n",
       "      <td>0.627</td>\n",
       "      <td>50</td>\n",
       "      <td>1</td>\n",
       "    </tr>\n",
       "    <tr>\n",
       "      <th>1</th>\n",
       "      <td>1</td>\n",
       "      <td>85</td>\n",
       "      <td>66</td>\n",
       "      <td>29</td>\n",
       "      <td>0</td>\n",
       "      <td>26.6</td>\n",
       "      <td>0.351</td>\n",
       "      <td>31</td>\n",
       "      <td>0</td>\n",
       "    </tr>\n",
       "    <tr>\n",
       "      <th>2</th>\n",
       "      <td>8</td>\n",
       "      <td>183</td>\n",
       "      <td>64</td>\n",
       "      <td>0</td>\n",
       "      <td>0</td>\n",
       "      <td>23.3</td>\n",
       "      <td>0.672</td>\n",
       "      <td>32</td>\n",
       "      <td>1</td>\n",
       "    </tr>\n",
       "  </tbody>\n",
       "</table>\n",
       "</div>"
      ],
      "text/plain": [
       "   num_preg  glucose_conc  diastolic_bp  skin_thickness  insulin   bmi  \\\n",
       "0         6           148            72              35        0  33.6   \n",
       "1         1            85            66              29        0  26.6   \n",
       "2         8           183            64               0        0  23.3   \n",
       "\n",
       "   diab_pred  age  diabetes  \n",
       "0      0.627   50         1  \n",
       "1      0.351   31         0  \n",
       "2      0.672   32         1  "
      ]
     },
     "execution_count": 2,
     "metadata": {},
     "output_type": "execute_result"
    }
   ],
   "source": [
    "df = pd.read_csv('sentiment_data/diabetes.csv')\n",
    "df.head(3)"
   ]
  },
  {
   "cell_type": "markdown",
   "metadata": {},
   "source": [
    "Lets build a function that removes the predicted class from our dataset & splits our data into the required format"
   ]
  },
  {
   "cell_type": "code",
   "execution_count": 3,
   "metadata": {},
   "outputs": [],
   "source": [
    "def clean_diabetes_data(data):\n",
    "    data = data.drop('diab_pred', axis=1)\n",
    "    target = data['diabetes']\n",
    "    features = data.drop('diabetes', axis=1)\n",
    "    return features, target"
   ]
  },
  {
   "cell_type": "code",
   "execution_count": 4,
   "metadata": {},
   "outputs": [],
   "source": [
    "features, target = clean_diabetes_data(df)"
   ]
  },
  {
   "cell_type": "code",
   "execution_count": 5,
   "metadata": {},
   "outputs": [
    {
     "ename": "NameError",
     "evalue": "name 'X' is not defined",
     "output_type": "error",
     "traceback": [
      "\u001b[0;31m---------------------------------------------------------------------------\u001b[0m",
      "\u001b[0;31mNameError\u001b[0m                                 Traceback (most recent call last)",
      "\u001b[0;32m<ipython-input-5-bf2764670384>\u001b[0m in \u001b[0;36m<module>\u001b[0;34m\u001b[0m\n\u001b[0;32m----> 1\u001b[0;31m \u001b[0mX\u001b[0m\u001b[0;34m.\u001b[0m\u001b[0mhead\u001b[0m\u001b[0;34m(\u001b[0m\u001b[0;36m3\u001b[0m\u001b[0;34m)\u001b[0m\u001b[0;34m\u001b[0m\u001b[0;34m\u001b[0m\u001b[0m\n\u001b[0m",
      "\u001b[0;31mNameError\u001b[0m: name 'X' is not defined"
     ]
    }
   ],
   "source": [
    "X.head(3)"
   ]
  },
  {
   "cell_type": "code",
   "execution_count": 32,
   "metadata": {},
   "outputs": [
    {
     "data": {
      "text/plain": [
       "768"
      ]
     },
     "execution_count": 32,
     "metadata": {},
     "output_type": "execute_result"
    }
   ],
   "source": [
    "len(X.to_numpy())"
   ]
  },
  {
   "cell_type": "code",
   "execution_count": 13,
   "metadata": {},
   "outputs": [
    {
     "data": {
      "text/plain": [
       "0    1\n",
       "1    0\n",
       "2    1\n",
       "Name: diabetes, dtype: int64"
      ]
     },
     "execution_count": 13,
     "metadata": {},
     "output_type": "execute_result"
    }
   ],
   "source": [
    "y[:3]"
   ]
  },
  {
   "cell_type": "markdown",
   "metadata": {},
   "source": [
    "we will now build a class that will clean and train on this data"
   ]
  },
  {
   "cell_type": "code",
   "execution_count": 92,
   "metadata": {},
   "outputs": [],
   "source": [
    "import time\n",
    "import sys \n",
    "from tqdm import trange \n",
    "\n",
    "class DiabetesPredictor(object):\n",
    "    '''Build a network that predicts if you have diabetes\n",
    "\n",
    "    Args:\n",
    "        hidden_nodes (int) : no of hidden nodes we want\n",
    "        learning_rate (float) : our learning rate\n",
    "\n",
    "    '''\n",
    "    def __init__(self, hidden_nodes=5, learning_rate=0.1):\n",
    "        self.init_network(hidden_nodes, learning_rate)\n",
    "\n",
    "    def clean_data(self, X):\n",
    "        '''Returns normalised matrix\n",
    "        '''\n",
    "        # clean our X\n",
    "        normalised_X = (X - X.mean()) / X.std()\n",
    "        return normalised_X.to_numpy()\n",
    "\n",
    "    def init_network(self, hidden_nodes, learning_rate):\n",
    "        self.no_input = 7\n",
    "        self.hidden_nodes = hidden_nodes\n",
    "        self.no_output = 1\n",
    "        self.learning_rate = learning_rate\n",
    "        # init the input layer\n",
    "        self.input_layer = np.zeros(shape=(1, 7))\n",
    "        # init the weights\n",
    "        self.w_0_1 = np.zeros(shape=(self.no_input, self.hidden_nodes))\n",
    "        self.w_1_2 = np.random.normal(0.0, 1, size=(self.hidden_nodes, self.no_output))\n",
    "\n",
    "        output_str = (\n",
    "            '\\n\\nCreated a Neural Network with:\\n'\n",
    "            f'- {self.no_input} input nodes\\n'\n",
    "            f'- {self.hidden_nodes} hidden nodes\\n'\n",
    "            f'- {self.no_output} output nodes\\n'\n",
    "            '\\n'\n",
    "            'Our weights have the following shapes:\\n'\n",
    "            f'input to hidden: {self.w_0_1.shape}\\n'\n",
    "            f'hidden to output: {self.w_1_2.shape}\\n'\n",
    "        )\n",
    "        print(output_str)\n",
    "\n",
    "    def update_input_layer(self, row):\n",
    "        self.input_layer *= 0\n",
    "        for i in range(len(row)):\n",
    "            self.input_layer[0][i] += row[i]\n",
    "\n",
    "    def train(self, training_features, training_labels):\n",
    "        assert(len(training_features) == len(training_labels))\n",
    "        no_correct = 0\n",
    "        start_time = time.time()\n",
    "\n",
    "        self.cleaned_features = self.clean_data(training_features)\n",
    "\n",
    "        for i in range(len(self.cleaned_features)):\n",
    "            feature = self.cleaned_features[i]\n",
    "            label = training_labels[i]\n",
    "\n",
    "            self.update_input_layer(feature)\n",
    "\n",
    "            ## Feedforward step\n",
    "            layer_1_input = np.dot(self.input_layer, self.w_0_1)\n",
    "            layer_1_output = layer_1_input # no activation function\n",
    "            output_layer_input = np.dot(layer_1_output, self.w_1_2)\n",
    "            output = self.sigmoid(output_layer_input)\n",
    "\n",
    "            ## Backpropagate the error\n",
    "            error = output - label\n",
    "            layer_2_delta = error * self.sigmoid_prime(output)\n",
    "            self.w_1_2 -= np.dot(layer_1_output.T, layer_2_delta)\n",
    "\n",
    "            layer_1_error = np.dot(layer_2_delta, self.w_1_2.T) # propagate error even back\n",
    "            layer_1_delta = layer_1_error\n",
    "            self.w_0_1 -= np.dot(self.input_layer.T, layer_1_delta)\n",
    "\n",
    "            if output >= 0.5 and label == 1:\n",
    "                no_correct +=1\n",
    "            elif output < 0.5 and label ==0:\n",
    "                no_correct +=1\n",
    "\n",
    "            elapsed_time = float(time.time() - start_time)\n",
    "            reviews_per_s = i / elapsed_time if elapsed_time > 0 else 0\n",
    "\n",
    "            sys.stdout.write(\"\\rProgress:\" + str(100 * i/float(len(training_features)))[:4] \\\n",
    "                             + \"% Speed(reviews/sec):\" + str(reviews_per_s)[0:5] \\\n",
    "                             + \" #Correct:\" + str(no_correct) + \" #Trained:\" + str(i+1) \\\n",
    "                             + \" Training Accuracy:\" + str(no_correct * 100 / float(i+1))[:4] + \"%\")\n",
    "            if(i % 1000 == 0):\n",
    "                print(\"\")\n",
    "\n",
    "    def run(self, input):\n",
    "        self.update_input_layer(input)\n",
    "        pass\n",
    "\n",
    "    def sigmoid(self, x):\n",
    "        return 1 / (1+np.exp(x))\n",
    "    \n",
    "    def sigmoid_prime(self, x):\n",
    "        return x * (1 - x)\n"
   ]
  },
  {
   "cell_type": "code",
   "execution_count": 93,
   "metadata": {
    "tags": []
   },
   "outputs": [
    {
     "name": "stdout",
     "output_type": "stream",
     "text": [
      "\n",
      "\n",
      "Created a Neural Network with:\n",
      "- 7 input nodes\n",
      "- 5 hidden nodes\n",
      "- 1 output nodes\n",
      "\n",
      "Our weights have the following shapes:\n",
      "input to hidden: (7, 5)\n",
      "hidden to output: (5, 1)\n",
      "\n",
      "Progress:0.0% Speed(reviews/sec):0.0 #Correct:1 #Trained:1 Training Accuracy:100.%\n",
      "Progress:99.8% Speed(reviews/sec):6053. #Correct:220 #Trained:768 Training Accuracy:28.6%"
     ]
    }
   ],
   "source": [
    "network = DiabetesPredictor()\n",
    "network.train(features, target)"
   ]
  }
 ],
 "metadata": {
  "kernelspec": {
   "display_name": "Python 3",
   "language": "python",
   "name": "python3"
  },
  "language_info": {
   "codemirror_mode": {
    "name": "ipython",
    "version": 3
   },
   "file_extension": ".py",
   "mimetype": "text/x-python",
   "name": "python",
   "nbconvert_exporter": "python",
   "pygments_lexer": "ipython3",
   "version": "3.7.1"
  }
 },
 "nbformat": 4,
 "nbformat_minor": 2
}