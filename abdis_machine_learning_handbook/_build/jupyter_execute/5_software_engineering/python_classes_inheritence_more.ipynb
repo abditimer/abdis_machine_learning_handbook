{
 "cells": [
  {
   "cell_type": "markdown",
   "metadata": {},
   "source": [
    "# Python Classes, Inheritence etc\n",
    "\n",
    "This notebook will include some basics of software engineering.\n",
    "\n",
    "We will try to cover both theoretical and practical concepts. "
   ]
  },
  {
   "cell_type": "code",
   "execution_count": 5,
   "metadata": {},
   "outputs": [
    {
     "name": "stdout",
     "output_type": "stream",
     "text": [
      "always runs...\n"
     ]
    }
   ],
   "source": [
    "class test:\n",
    "    def __init__(self):\n",
    "        print('always runs...')\n",
    "    def maybe_run(self):\n",
    "        print('running now that you\\'ve called me.')\n",
    "\n",
    "test  = test()"
   ]
  },
  {
   "cell_type": "code",
   "execution_count": 6,
   "metadata": {},
   "outputs": [
    {
     "name": "stdout",
     "output_type": "stream",
     "text": [
      "running now that you've called me.\n"
     ]
    }
   ],
   "source": [
    "test.maybe_run()"
   ]
  }
 ],
 "metadata": {
  "kernelspec": {
   "display_name": "Python 3",
   "language": "python",
   "name": "python3"
  },
  "language_info": {
   "codemirror_mode": {
    "name": "ipython",
    "version": 3
   },
   "file_extension": ".py",
   "mimetype": "text/x-python",
   "name": "python",
   "nbconvert_exporter": "python",
   "pygments_lexer": "ipython3",
   "version": "3.7.7-final"
  }
 },
 "nbformat": 4,
 "nbformat_minor": 2
}