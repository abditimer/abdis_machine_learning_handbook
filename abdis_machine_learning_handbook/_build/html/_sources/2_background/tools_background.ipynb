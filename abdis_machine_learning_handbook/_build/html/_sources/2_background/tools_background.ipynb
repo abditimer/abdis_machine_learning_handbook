{
 "metadata": {
  "language_info": {
   "codemirror_mode": {
    "name": "ipython",
    "version": 3
   },
   "file_extension": ".py",
   "mimetype": "text/x-python",
   "name": "python",
   "nbconvert_exporter": "python",
   "pygments_lexer": "ipython3",
   "version": 3
  },
  "orig_nbformat": 2
 },
 "nbformat": 4,
 "nbformat_minor": 2,
 "cells": [
  {
   "source": [
    "# Tools Background\n",
    "\n",
    "In this section, we will cover:\n",
    "- Tooling for building ML systems\n",
    "- Tools such as:\n",
    "    - Jupyter notebook, books and labs\n",
    "    - Other editors like VSCode\n",
    "    - Source Control\n",
    "    - Database\n",
    "    - Cloud\n",
    "    - Virtual Machines\n",
    "\n"
   ],
   "cell_type": "markdown",
   "metadata": {}
  },
  {
   "cell_type": "code",
   "execution_count": null,
   "metadata": {},
   "outputs": [],
   "source": []
  }
 ]
}