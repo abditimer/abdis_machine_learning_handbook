{
 "metadata": {
  "language_info": {
   "codemirror_mode": {
    "name": "ipython",
    "version": 3
   },
   "file_extension": ".py",
   "mimetype": "text/x-python",
   "name": "python",
   "nbconvert_exporter": "python",
   "pygments_lexer": "ipython3",
   "version": "3.7.7-final"
  },
  "orig_nbformat": 2,
  "kernelspec": {
   "name": "python3",
   "display_name": "Python 3",
   "language": "python"
  }
 },
 "nbformat": 4,
 "nbformat_minor": 2,
 "cells": [
  {
   "source": [
    "# SKLearn API\n"
   ],
   "cell_type": "markdown",
   "metadata": {}
  },
  {
   "source": [
    "\n",
    "In this notebook, we will aim to go over the sklearn API, and how to use it to build your own ML models.\n",
    "\n",
    "## Why should I use SKLearn?\n",
    "Sklearn is one of pythons best implementation of machine learning algorithms and associated tools. The high level of the API is that it:\n",
    "- Consistency: All objects share a common interface drawn from a limited set of methods, with consistent documentation\n",
    "- Inspection: All specified parameter values are exposed as public attributes\n",
    "- Limited object hierarchy: Algos are represented as python classes; datasets are represented in NumPy/Pandas or SciPy; param names are string\n",
    "- Composition: allows you to express ML algorithms in a sequence of fundemental Algos\n",
    "- Sensible defaults: library defines appropriate default values\n",
    "\n",
    "## Sklearn Algos building blocks\n",
    "\n",
    "They are made up of:\n",
    "- Estimators: The base object, implements a `fit` method to learn from data \n",
    "- Predictor: uses `predict` or `predict_proba`\n",
    "- Transformer: for filtering or modifying data\n",
    "- Model: A model that can give a goodness of fit measure or a likelihood of unseen data "
   ],
   "cell_type": "markdown",
   "metadata": {}
  },
  {
   "cell_type": "code",
   "execution_count": 1,
   "metadata": {},
   "outputs": [
    {
     "output_type": "execute_result",
     "data": {
      "text/plain": [
       "10"
      ]
     },
     "metadata": {},
     "execution_count": 1
    }
   ],
   "source": [
    "5+5"
   ]
  }
 ]
}