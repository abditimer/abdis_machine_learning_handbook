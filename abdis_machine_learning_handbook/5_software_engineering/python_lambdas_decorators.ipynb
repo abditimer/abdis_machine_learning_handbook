{
 "metadata": {
  "language_info": {
   "codemirror_mode": {
    "name": "ipython",
    "version": 3
   },
   "file_extension": ".py",
   "mimetype": "text/x-python",
   "name": "python",
   "nbconvert_exporter": "python",
   "pygments_lexer": "ipython3",
   "version": "3.7.7-final"
  },
  "orig_nbformat": 2,
  "kernelspec": {
   "name": "python3",
   "display_name": "Python 3",
   "language": "python"
  }
 },
 "nbformat": 4,
 "nbformat_minor": 2,
 "cells": [
  {
   "source": [
    "# Lambdas & Decorators\n",
    "\n",
    "## Lets begin with Lambdas\n",
    "\n",
    "No, not lambs. But, they're both pretty adorable\n",
    "\n",
    "![lamb kicking its feet](https://media0.giphy.com/media/9uIwrW53rQwNmHuGGq/giphy.gif)\n",
    "\n",
    "In this notebook, we will aim to introduce the topic of lambda functions, and how they can be used.\n",
    "\n",
    "-----"
   ],
   "cell_type": "markdown",
   "metadata": {}
  },
  {
   "source": [
    "## What is a lambda function?\n",
    "A lambda function (aka anonymous functions, function literal, lambda abstractions) are function definitions that are not bound to an identifier. You can read more about what an anonymous function is [here](https://en.wikipedia.org/wiki/Anonymous_function).\n",
    "\n",
    "## why use Lambda functions?\n",
    "- when you want to have a very quick function that takes in abstract parameters\n",
    "- to create non-reuseble functions to stop there being tons of one-time use named functions \n",
    "- for short-term use and doesn't need to be used\n",
    "\n",
    "\n",
    "## why not use lambda functions?\n",
    "- they're not the only way to solve a problem e.g. you can create an actual function - named function\n",
    "- can make debugging hard, as python will only return that a lambda function has gone wrong....but which one, you'll never know!\n"
   ],
   "cell_type": "markdown",
   "metadata": {}
  },
  {
   "source": [
    "## Lambdas vs Functions\n",
    "\n",
    "![when you find lambdas, you never go back to functions...](https://pics.me.me/me-anormal-function-lambda-after-learning-lambdas-46113619.png)\n",
    "\n",
    "Okay, so lambdas can be great. But what makes them different to normal functions?\n",
    "\n",
    "- Lambdas only contain expressions and can't include statements in its body (e.g. set x to 5)\n",
    "- you can only write lambdas as a single line vs multiline functions\n",
    "- no statements like return, pass etc\n",
    "- "
   ],
   "cell_type": "markdown",
   "metadata": {}
  },
  {
   "cell_type": "code",
   "execution_count": null,
   "metadata": {},
   "outputs": [],
   "source": []
  },
  {
   "source": [
    "## Examples\n",
    "\n",
    "We will now write out examples in python. Why not copy these out and run them yourself?"
   ],
   "cell_type": "markdown",
   "metadata": {}
  },
  {
   "source": [
    "### Simple Lambda examples"
   ],
   "cell_type": "markdown",
   "metadata": {}
  },
  {
   "cell_type": "code",
   "execution_count": 1,
   "metadata": {},
   "outputs": [
    {
     "output_type": "execute_result",
     "data": {
      "text/plain": [
       "3"
      ]
     },
     "metadata": {},
     "execution_count": 1
    }
   ],
   "source": [
    "first_lambda = lambda a : a + 1\n",
    "first_lambda(2)"
   ]
  },
  {
   "source": [
    "You can see how simple the lambda function works - by creating a small anonymous function where you can run some code quickly, instead of defining a large method.\n",
    "\n",
    "Lets create a few more examples:"
   ],
   "cell_type": "markdown",
   "metadata": {}
  },
  {
   "cell_type": "code",
   "execution_count": 2,
   "metadata": {},
   "outputs": [
    {
     "output_type": "stream",
     "name": "stdout",
     "text": [
      "4 9\n"
     ]
    }
   ],
   "source": [
    "square = lambda x : x * x \n",
    "print(square(2), square(3))"
   ]
  },
  {
   "cell_type": "code",
   "execution_count": 4,
   "metadata": {},
   "outputs": [
    {
     "output_type": "execute_result",
     "data": {
      "text/plain": [
       "0.8807970779778823"
      ]
     },
     "metadata": {},
     "execution_count": 4
    }
   ],
   "source": [
    "import numpy as np \n",
    "sigmoid = lambda x : 1 / (1 + np.exp(-x))\n",
    "sigmoid(2)"
   ]
  },
  {
   "source": [
    "### Examples of using Lambdas with Sorting"
   ],
   "cell_type": "markdown",
   "metadata": {}
  },
  {
   "cell_type": "code",
   "execution_count": 5,
   "metadata": {},
   "outputs": [
    {
     "output_type": "execute_result",
     "data": {
      "text/plain": [
       "['a', 'aa', 'aaaa', 'aaaaaaaa']"
      ]
     },
     "metadata": {},
     "execution_count": 5
    }
   ],
   "source": [
    "unsort_count_of_a = ['aaaaaaaa', 'aa', 'aaaa', 'a']\n",
    "unsort_count_of_a.sort(key=lambda item: len(item))\n",
    "unsort_count_of_a"
   ]
  },
  {
   "cell_type": "code",
   "execution_count": null,
   "metadata": {},
   "outputs": [],
   "source": []
  },
  {
   "source": [
    "### Examples of Closures\n",
    "\n",
    "Closueres are functions evaluated in environments that have bound variables. Okay, but what does that mean? Simply put, "
   ],
   "cell_type": "markdown",
   "metadata": {}
  },
  {
   "cell_type": "code",
   "execution_count": null,
   "metadata": {},
   "outputs": [],
   "source": []
  },
  {
   "source": [
    "Now, lets look at an example using `map()`.\n",
    "\n",
    "Map takes two arguments: `function` to run and `iterables` to pass to the function."
   ],
   "cell_type": "markdown",
   "metadata": {}
  },
  {
   "cell_type": "code",
   "execution_count": 3,
   "metadata": {},
   "outputs": [
    {
     "output_type": "stream",
     "name": "stdout",
     "text": [
      "<map object at 0x7f9d93279050>\n"
     ]
    }
   ],
   "source": [
    "some_list = [1,3,5,7,8]\n",
    "t = map(lambda i : i+1, some_list)\n",
    "print(t)"
   ]
  },
  {
   "source": [
    "## Okay, back to Decorators\n",
    "\n",
    "What is a decorator?\n",
    "\n",
    "A decorator simply wraps a function, and in turn changes its behaviour. Therefore, you can add additional behaviour to functions/classes. You will also see that you can use @ to call a decorator, instead of writing tons of code.\n",
    "\n",
    "Here is an example"
   ],
   "cell_type": "markdown",
   "metadata": {}
  },
  {
   "cell_type": "code",
   "execution_count": 19,
   "metadata": {},
   "outputs": [
    {
     "output_type": "stream",
     "name": "stdout",
     "text": [
      "wrapping the function...\nHi abdi\nwrapping complete.\n"
     ]
    }
   ],
   "source": [
    "def my_decorator(function):\n",
    "    def wraps():\n",
    "        print('wrapping the function...')\n",
    "        function()\n",
    "        print('wrapping complete.')\n",
    "    return wraps\n",
    "\n",
    "def print_hi():\n",
    "    print('Hi abdi')\n",
    "\n",
    "decorated = my_decorator(print_hi)\n",
    "decorated()"
   ]
  }
 ]
}