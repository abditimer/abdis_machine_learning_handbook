{
 "metadata": {
  "language_info": {
   "codemirror_mode": {
    "name": "ipython",
    "version": 3
   },
   "file_extension": ".py",
   "mimetype": "text/x-python",
   "name": "python",
   "nbconvert_exporter": "python",
   "pygments_lexer": "ipython3",
   "version": 3
  },
  "orig_nbformat": 2
 },
 "nbformat": 4,
 "nbformat_minor": 2,
 "cells": [
  {
   "source": [
    "# Data - the different types\n",
    "\n",
    "Data comes in different types, depending on your use case. For example, you may be analysing financial data relating to stocks, or looking at pictures your users have shared online on your app. No matter the type of data, it is your job, as a Machine Learning Engineer, to support the Data Engineers and Database Admins in your oganisation, to extract as much value out of this data as possible. This may be done by developing products, or supporting data scientists, analysts or other colleagues in the business.\n",
    "\n",
    "## Types of data\n",
    "\n",
    "### Structured Data\n",
    "Structured data is data that has a relationship, hence is *relational*. This means it has a strict schema which defines the structure (properties). Below, you can see an example of a table:\n",
    "\n",
    "![structured table image](https://lh3.googleusercontent.com/proxy/rQvqYgcqXK0XwSOTJqvniRagp-NHZY1REdVeMREcOANpgLie3jxIlst49DYBDGFmCzOVn_UfmWNO7evAii1TxR4Krq9PtcT7PSIfGrs)\n",
    "\n",
    "Advantages of this is that it enables the data to have a structure that can be searched. However, this means that it may be difficult to change the data. For example, what if you have clients that share data with you in a variety of different ways? Having a rigid structure may mean you are unflexible to a change in demand.\n",
    "\n",
    "### Semi-structured Data\n",
    "This sits between structured and unstructured data. This data uses tags to enable grouping/organisation of heirarchical data. For example, JSON and XML tend to be good examples of semi-structured data. It is where some structure exists...\n",
    "\n",
    "This also is refered to as non-relational/NoSQL data. The structure will be described by a serialisation language - this can be used to write data, that is in memory, to something (an action e.g. read). Tje semder\n",
    "\n"
   ],
   "cell_type": "markdown",
   "metadata": {}
  }
 ]
}